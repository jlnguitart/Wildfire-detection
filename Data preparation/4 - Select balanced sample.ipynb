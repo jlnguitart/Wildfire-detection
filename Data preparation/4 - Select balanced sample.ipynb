{
 "cells": [
  {
   "cell_type": "code",
   "execution_count": 11,
   "metadata": {},
   "outputs": [],
   "source": [
    "import pandas as pd\n",
    "import glob\n",
    "\n",
    "\n",
    "flat_data_dir='/home/jupyter/data/csv/'\n",
    "master_data_dir='/home/jupyter/data/master/'\n",
    "def select_balanced_sample(dirloc):\n",
    "    \n",
    "    fire_sample = pd.read_csv(dirloc)\n",
    "    on_fire_grids=fire_sample[fire_sample['on_fire']==1]\n",
    "    unlit_grids=fire_sample[fire_sample['on_fire']==0]\n",
    "    num_fire_grids=len(on_fire_grids.index)\n",
    "    #print(num_fire_grids)\n",
    "    unlit_grids_balanced=unlit_grids.sample(n=num_fire_grids,random_state =2323)\n",
    "    frames=[on_fire_grids,unlit_grids_balanced]\n",
    "    return pd.concat(frames, ignore_index = True).reset_index(drop=True)\n",
    "\n",
    "def create_master_sample():\n",
    "    list_ = []\n",
    "    allFiles = glob.glob(flat_data_dir + \"*.csv\")\n",
    "    for file_ in allFiles:\n",
    "        df = select_balanced_sample(file_)\n",
    "        df['fire_id']=file_.replace('/home/jupyter/data/csv/','').replace('.csv','')\n",
    "        list_.append(df)\n",
    "\n",
    "    return pd.concat(list_, axis = 0, ignore_index = True)\n",
    "\n"
   ]
  },
  {
   "cell_type": "code",
   "execution_count": 12,
   "metadata": {},
   "outputs": [],
   "source": [
    "test_samp=create_master_sample()\n",
    "test_samp.to_csv(master_data_dir+'master_sample'+'.csv')\n",
    "drop_cols=['gid','us_gid_to_','state', 'NAME', 'lcmajority','population','geometry','Unnamed: 0']\n",
    "#test_samp.drop(drop_cols, axis=1, inplace=True)"
   ]
  },
  {
   "cell_type": "code",
   "execution_count": 8,
   "metadata": {},
   "outputs": [
    {
     "name": "stdout",
     "output_type": "stream",
     "text": [
      "(39928, 24)\n"
     ]
    }
   ],
   "source": [
    "print(test_samp.shape)"
   ]
  },
  {
   "cell_type": "code",
   "execution_count": null,
   "metadata": {},
   "outputs": [],
   "source": []
  }
 ],
 "metadata": {
  "kernelspec": {
   "display_name": "Python 3",
   "language": "python",
   "name": "python3"
  },
  "language_info": {
   "codemirror_mode": {
    "name": "ipython",
    "version": 3
   },
   "file_extension": ".py",
   "mimetype": "text/x-python",
   "name": "python",
   "nbconvert_exporter": "python",
   "pygments_lexer": "ipython3",
   "version": "3.7.6"
  }
 },
 "nbformat": 4,
 "nbformat_minor": 4
}
